{
 "cells": [
  {
   "cell_type": "markdown",
   "source": [
    "# Non-negative matrix factorization\n",
    "\n",
    "Non-negative matrix factorization (NMF) is a method of matrix decomposition that aims\n",
    " to factorize a matrix into two non-negative matrices, with the goal of obtaining a\n",
    " low-rank approximation of the original matrix. NMF can be used for a variety of\n",
    " tasks, including image processing, text mining, and audio signal processing.\n",
    "\n",
    "And the advantage over PCA is that the NMF is human-interpretable.\n",
    "\n",
    "**Requirements:** all features must be non-negative (>=0)\n"
   ],
   "metadata": {
    "collapsed": false,
    "pycharm": {
     "name": "#%% md\n"
    }
   }
  },
  {
   "cell_type": "code",
   "execution_count": 35,
   "outputs": [],
   "source": [
    "import warnings\n",
    "warnings.filterwarnings('ignore')\n",
    "\n",
    "# Set up notebook\n",
    "import pandas as pd\n",
    "import numpy as np\n",
    "import matplotlib.pyplot as plt\n",
    "\n",
    "home_directory = \"C:/Users/rober/DataspellProjects/Machine-Learning-Sandbox\"\n",
    "\n",
    "operators = pd.read_csv(\n",
    "    filepath_or_buffer=home_directory + \"/data/08_rainbow_six/players_rainbow_six.csv\"\n",
    ")"
   ],
   "metadata": {
    "collapsed": false,
    "pycharm": {
     "name": "#%%\n"
    }
   }
  },
  {
   "cell_type": "markdown",
   "source": [
    "## Create the model\n",
    "\n",
    "- Create an instance of the `NMF` class. You can specify the number of components you\n",
    "want to extract using the `n_components` parameter. You can also specify the solver to\n",
    "use (`'cd'` for coordinate descent, `'mu'` for multiplicative update), the maximum number\n",
    " of iterations (`'max_iter'`), and other hyperparameters."
   ],
   "metadata": {
    "collapsed": false,
    "pycharm": {
     "name": "#%% md\n"
    }
   }
  },
  {
   "cell_type": "code",
   "execution_count": 36,
   "metadata": {
    "collapsed": true,
    "pycharm": {
     "name": "#%%\n"
    }
   },
   "outputs": [],
   "source": [
    "import numpy as np\n",
    "from sklearn.decomposition import NMF\n",
    "\n",
    "# Load data\n",
    "data = operators[[\"time_played\", \"kills\", \"deaths\", \"wins\", \"losess\"]].values\n",
    "\n",
    "# Create NMF model\n",
    "model = NMF(n_components=2, init='random', random_state=0)"
   ]
  },
  {
   "cell_type": "markdown",
   "source": [
    "## Fit the model\n",
    "\n",
    "- Fit the NMF model to your data using the `fit` method."
   ],
   "metadata": {
    "collapsed": false,
    "pycharm": {
     "name": "#%% md\n"
    }
   }
  },
  {
   "cell_type": "code",
   "execution_count": 37,
   "outputs": [],
   "source": [
    "# Fit model to data\n",
    "W = model.fit(data)\n",
    "nmf_features = W.transform(data)"
   ],
   "metadata": {
    "collapsed": false,
    "pycharm": {
     "name": "#%%\n"
    }
   }
  },
  {
   "cell_type": "markdown",
   "source": [
    "## Extract the non-negative matrices from the NMF model using the transform method\n",
    "\n",
    "*Note*: Remember it is a dimensionality reduction technique that factorizes a\n",
    "non-negative matrix into two non-negative matrices, namely the **features matrix** and\n",
    "the **components matrix**.\n",
    "\n",
    "- The **NMF features** refer to the rows of the features matrix, which represent the\n",
    "most significant patterns or characteristics of the original data.\n",
    "\n",
    "- The **NMF components**, on the other hand, refer to the columns of the components\n",
    "matrix, which represent the weights of the features used to reconstruct the original data."
   ],
   "metadata": {
    "collapsed": false,
    "pycharm": {
     "name": "#%% md\n"
    }
   }
  },
  {
   "cell_type": "code",
   "execution_count": 38,
   "outputs": [
    {
     "name": "stdout",
     "output_type": "stream",
     "text": [
      "Original data: \n",
      "[[ 2105 39693 27208  3963  2524]\n",
      " [ 2440 52978 31853  6332  2716]\n",
      " [ 2184 32141 31353  4525  2892]\n",
      " ...\n",
      " [  118  1952  1758   250   145]\n",
      " [ 1039 16925 13373  1916  1479]\n",
      " [  797 12330 11086  1590  1167]] \n",
      "\n",
      "Model: \n",
      "NMF(init='random', n_components=2, random_state=0) \n",
      "\n",
      "NMF features: \n",
      "[[ 53.5012496  282.26545197]\n",
      " [ 61.46527282 414.2501265 ]\n",
      " [ 64.04448815 154.50040445]\n",
      " ...\n",
      " [  3.55946273  10.55842781]\n",
      " [ 26.81640383 106.00237562]\n",
      " [ 22.51191199  66.58977747]] \n",
      "\n",
      "Components for each sample: \n",
      "[[ 29.58960099 302.39042514 473.24481724  40.6965661   51.38820211]\n",
      " [  2.13921554  83.09742091   6.54388595   8.43384377   0.        ]]\n"
     ]
    }
   ],
   "source": [
    "H = model.components_\n",
    "\n",
    "print(\"Original data: \")\n",
    "print(data, \"\\n\")\n",
    "print(\"Model: \")\n",
    "print(W, \"\\n\")\n",
    "print(\"NMF features: \")\n",
    "print(nmf_features, \"\\n\")\n",
    "print(\"Components for each sample: \")\n",
    "print(H)"
   ],
   "metadata": {
    "collapsed": false,
    "pycharm": {
     "name": "#%%\n"
    }
   }
  },
  {
   "cell_type": "markdown",
   "source": [
    "\n",
    "- Reconstruct the sample using the new NMF features and the components of each sample"
   ],
   "metadata": {
    "collapsed": false,
    "pycharm": {
     "name": "#%% md\n"
    }
   }
  },
  {
   "cell_type": "code",
   "execution_count": 39,
   "outputs": [
    {
     "name": "stdout",
     "output_type": "stream",
     "text": [
      "Reconstructed data:\n",
      "[[ 2186.90726951 39633.79668293 27166.3020156   4557.89986378\n",
      "   2749.33302756]\n",
      " [ 2704.90320566 53009.62710339 31798.92738536  5995.14638589\n",
      "   3158.58986231]\n",
      " [ 2225.56051615 32205.02513888 31319.75511629  3909.42301852\n",
      "   3291.1311009 ]\n",
      " ...\n",
      " [  127.90983486  1953.72556901  1753.59043796   233.90604098\n",
      "    182.91439031]\n",
      " [ 1020.24861864 16917.5477801  13384.39158773  1985.34302614\n",
      "   1378.04677997]\n",
      " [  808.56838004 12340.82540385 11089.4015839   1477.76529401\n",
      "   1156.84668306]]\n"
     ]
    }
   ],
   "source": [
    "print(\"Reconstructed data:\")\n",
    "print(np.dot(nmf_features, H))"
   ],
   "metadata": {
    "collapsed": false,
    "pycharm": {
     "name": "#%%\n"
    }
   }
  },
  {
   "cell_type": "markdown",
   "source": [
    " We first created a numpy array `data` that contains our input data. We then create an\n",
    " instance of the `NMF` class with `n_components=2`, which means we want to extract two\n",
    " non-negative matrices. We fit the model to the data using the `fit_transform` method,\n",
    " which returns the non-negative matrix `W`. We then extract the non-negative matrix `H`\n",
    " using the `components_` attribute.\n",
    "\n",
    "Finally, we print out the original data, the non-negative matrices `W` and `H`, and the\n",
    "reconstructed data, which is obtained by multiplying `W` and `H`.\n",
    "\n",
    "## Summary\n",
    "\n",
    "In summary, the NMF features and components are the two matrices that result from the\n",
    " NMF factorization process. The features represent the most significant patterns or\n",
    " characteristics of the data, while the components represent the weights of these\n",
    " features used to reconstruct the original data."
   ],
   "metadata": {
    "collapsed": false,
    "pycharm": {
     "name": "#%% md\n"
    }
   }
  },
  {
   "cell_type": "markdown",
   "source": [
    "## Hyperparameter tunning (n_components)\n",
    "\n",
    "Choosing the appropriate number of components is important to obtain a compact and\n",
    "informative representation of the data. Here are some criteria that you can use to\n",
    "select the right number of components:\n",
    "\n",
    "- **Reconstruction error**: One way to choose the number of components is to calculate\n",
    "the reconstruction error for different values of `n_components` and choose the value\n",
    "that gives the lowest error. The reconstruction error measures how well the NMF model\n",
    " can reconstruct the original data. A lower reconstruction error indicates a better\n",
    " fit of the model to the data. You can use the `reconstruction_error()` method of the\n",
    " NMF object in sklearn to calculate the reconstruction error.\n",
    "\n",
    "- **Domain knowledge**: Your knowledge of the domain can also guide the selection of\n",
    "the number of components. For example, if you are working with text data and you know\n",
    "that there are only a few main topics, you may choose a small number of components\n",
    "that corresponds to those topics."
   ],
   "metadata": {
    "collapsed": false,
    "pycharm": {
     "name": "#%% md\n"
    }
   }
  },
  {
   "cell_type": "code",
   "execution_count": 40,
   "outputs": [
    {
     "data": {
      "text/plain": "<Figure size 640x480 with 1 Axes>",
      "image/png": "[encoded data removed]"
     },
     "metadata": {},
     "output_type": "display_data"
    }
   ],
   "source": [
    "# create an NMF object\n",
    "nmf = NMF()\n",
    "\n",
    "# calculate the reconstruction error for different values of n_components\n",
    "errors = []\n",
    "for n in range(1, 21):\n",
    "    nmf.set_params(n_components=n)\n",
    "    nmf.fit(data)\n",
    "    errors.append(nmf.reconstruction_err_)\n",
    "\n",
    "# plot the reconstruction errors\n",
    "import matplotlib.pyplot as plt\n",
    "plt.plot(range(1, 21), errors)\n",
    "plt.xlabel('Number of components')\n",
    "plt.ylabel('Reconstruction error')\n",
    "plt.show()"
   ],
   "metadata": {
    "collapsed": false,
    "pycharm": {
     "name": "#%%\n"
    }
   }
  },
  {
   "cell_type": "markdown",
   "source": [
    "In addition to the number of components, there are other hyperparameters in the NMF\n",
    "model that you can tune to improve the performance of the algorithm.\n",
    "\n",
    "- `init`: The method used to initialize the NMF algorithm. The default is `'nndsvd'`,\n",
    "which uses a non-negative double singular value decomposition for initialization.\n",
    "Other options include `'random'` for random initialization and `'nndsvda'` for a more\n",
    " robust initialization method that is slower but more accurate.\n",
    "\n",
    "- `solver`: The optimization algorithm used to fit the NMF model. The default is `'cd'`,\n",
    "which uses coordinate descent. Other options include `'mu'` for multiplicative update\n",
    " and `'pg'` for projected gradient descent.\n",
    "\n",
    "- `beta_loss`: The type of regularization used to constrain the NMF model. The default\n",
    "is `'frobenius'`, which uses the Frobenius norm. Other options include\n",
    "`'kullback-leibler'` for the Kullback-Leibler divergence and `'itakura-saito'` for\n",
    "the Itakura-Saito divergence.\n",
    "\n",
    "- `alpha`: The regularization parameter for the sparsity constraint. A higher value of\n",
    "alpha leads to a sparser representation.\n",
    "\n",
    "- `l1_ratio`: The regularization parameter for the sparsity constraint as a mixture of\n",
    "L1 and L2 regularization. A value of 1 corresponds to pure L1 regularization, while a\n",
    " value of 0 corresponds to pure L2 regularization."
   ],
   "metadata": {
    "collapsed": false,
    "pycharm": {
     "name": "#%% md\n"
    }
   }
  },
  {
   "cell_type": "code",
   "execution_count": 42,
   "outputs": [
    {
     "name": "stdout",
     "output_type": "stream",
     "text": [
      "{'alpha': 0.0, 'beta_loss': 'frobenius', 'init': 'nndsvd', 'n_components': 5}\n"
     ]
    }
   ],
   "source": [
    "from sklearn.model_selection import GridSearchCV\n",
    "from sklearn.metrics import silhouette_score\n",
    "\n",
    "# create an NMF object\n",
    "nmf = NMF()\n",
    "\n",
    "# define the grid of hyperparameters to search over\n",
    "param_grid = {\n",
    "    'n_components': [5, 10, 15],\n",
    "    'init': ['nndsvd', 'random'],\n",
    "    'beta_loss': ['frobenius', 'kullback-leibler'],\n",
    "    'alpha': [0.0, 0.1, 0.5],\n",
    "}\n",
    "\n",
    "# perform grid search cross-validation to find the best hyperparameters\n",
    "grid_search = GridSearchCV(nmf, param_grid=param_grid, cv=5, scoring=silhouette_score)\n",
    "grid_search.fit(data)\n",
    "\n",
    "# print the best hyperparameters\n",
    "print(grid_search.best_params_)"
   ],
   "metadata": {
    "collapsed": false,
    "pycharm": {
     "name": "#%%\n"
    }
   }
  }
 ],
 "metadata": {
  "kernelspec": {
   "display_name": "Python 3",
   "language": "python",
   "name": "python3"
  },
  "language_info": {
   "codemirror_mode": {
    "name": "ipython",
    "version": 2
   },
   "file_extension": ".py",
   "mimetype": "text/x-python",
   "name": "python",
   "nbconvert_exporter": "python",
   "pygments_lexer": "ipython2",
   "version": "2.7.6"
  }
 },
 "nbformat": 4,
 "nbformat_minor": 0
}