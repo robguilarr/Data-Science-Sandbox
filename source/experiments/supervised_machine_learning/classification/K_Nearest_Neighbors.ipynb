{
 "cells": [
  {
   "cell_type": "markdown",
   "source": [
    "# K-Nearest Neighbors\n",
    "\n",
    "KNN is a **non-parametric** algorithm used for classification and regression tasks.\n",
    "It works by finding the K closest data points in the training set to a new data point\n",
    " and assigning the new point the class label that is most common among the K neighbors.\n",
    "\n",
    "In other words, KNN determines the class of an unknown data point by finding the k\n",
    "data points in the training dataset that are closest to the unknown data point, and\n",
    "classifying the unknown data point based on the most common class among its k-nearest\n",
    " neighbors.\n",
    "\n",
    "The distance metric used to determine the proximity between two data points can be\n",
    "Euclidean, Manhattan, or any other metric of choice.\n",
    "\n",
    "The KNN algorithm can be summarized as follows:\n",
    "\n",
    "- Calculate the distance between the query point and all the data points in the dataset.\n",
    "\n",
    "- Select the k-nearest data points to the query point.\n",
    "\n",
    "- Assign the class of the query point based on the majority class among the k-nearest\n",
    "neighbors."
   ],
   "metadata": {
    "collapsed": false,
    "pycharm": {
     "name": "#%% md\n"
    }
   }
  },
  {
   "cell_type": "code",
   "execution_count": 27,
   "outputs": [
    {
     "name": "stdout",
     "output_type": "stream",
     "text": [
      "(649, 2) (649, 1)\n"
     ]
    }
   ],
   "source": [
    "import warnings\n",
    "warnings.filterwarnings('ignore')\n",
    "\n",
    "# Set up notebook\n",
    "import pandas as pd\n",
    "import numpy as np\n",
    "import matplotlib.pyplot as plt\n",
    "\n",
    "home_directory = \"C:/Users/rober/DataspellProjects/Machine-Learning-Sandbox\"\n",
    "\n",
    "pokedex = pd.read_csv(\n",
    "    filepath_or_buffer=home_directory + \"/data/01_pokemon/pokemon_go.csv\"\n",
    ")\n",
    "\n",
    "# Features (numpy arrays)\n",
    "X = pokedex[[\"MaxHP\", \"Capture_rate\"]].values\n",
    "# Target variable (numpy arrays)\n",
    "y = pokedex[[\"Legendary\"]].values\n",
    "\n",
    "print(X.shape, y.shape)"
   ],
   "metadata": {
    "collapsed": false,
    "pycharm": {
     "name": "#%%\n"
    }
   }
  },
  {
   "cell_type": "markdown",
   "source": [
    "## Split the dataset\n",
    "\n",
    "First, we are splitting our data into training and testing sets using\n",
    "`train_test_split()` function from scikit-learn library. The `stratify` parameter\n",
    "ensures that the proportion of classes in the training and testing sets remains the\n",
    "same as in the original dataset. This is useful to make sure we are not biased\n",
    "towards one class during training."
   ],
   "metadata": {
    "collapsed": false,
    "pycharm": {
     "name": "#%% md\n"
    }
   }
  },
  {
   "cell_type": "code",
   "execution_count": 28,
   "outputs": [],
   "source": [
    "# Train/Test Split\n",
    "from sklearn.model_selection import train_test_split\n",
    "\n",
    "# We use 'stratify' to represent the same proportion of labels on the test and the train\n",
    "X_train, X_test, y_train, y_test = train_test_split(\n",
    " X, y, test_size=0.2, random_state=21, stratify=y\n",
    ")"
   ],
   "metadata": {
    "collapsed": false,
    "pycharm": {
     "name": "#%%\n"
    }
   }
  },
  {
   "cell_type": "markdown",
   "source": [
    "Here `X` is the feature matrix and `y` is the target variable. `test_size=0.2`\n",
    "specifies that we want to use 20% of the data for testing, while the remaining 80%\n",
    "will be used for training. The `random_state` parameter is used to ensure\n",
    "reproducibility, while `stratify=y` ensures that the classes are proportionally\n",
    "represented in the train-test split.\n",
    "\n",
    "## Create dummy variables\n",
    "\n",
    "In order to use categorical features, we should use a dummy variable encoders to proceed"
   ],
   "metadata": {
    "collapsed": false,
    "pycharm": {
     "name": "#%% md\n"
    }
   }
  },
  {
   "cell_type": "code",
   "execution_count": 29,
   "outputs": [],
   "source": [
    "X = pokedex[[\"MaxHP\", \"Capture_rate\"]]\n",
    "\n",
    "primary_types = pd.get_dummies(pokedex['Primary'], drop_first=True)\n",
    "\n",
    "pokedex_X = pd.concat([X, primary_types], axis=1)\n",
    "\n",
    "X = pokedex_X.values"
   ],
   "metadata": {
    "collapsed": false,
    "pycharm": {
     "name": "#%%\n"
    }
   }
  },
  {
   "cell_type": "code",
   "execution_count": 30,
   "outputs": [
    {
     "data": {
      "text/plain": "   MaxHP  Capture_rate  Dark  Dragon  Electric  Fairy  Fighting  Fire  Flying  \\\n0    113          0.20     0       0         0      0         0     0       0   \n1    134          0.10     0       0         0      0         0     0       0   \n2    162          0.05     0       0         0      0         0     0       0   \n3    105          0.20     0       0         0      0         0     1       0   \n4    131          0.10     0       0         0      0         0     1       0   \n\n   Ghost  Grass  Ground  Ice  Normal  Poison  Psychic  Rock  Steel  Water  \n0      0      1       0    0       0       0        0     0      0      0  \n1      0      1       0    0       0       0        0     0      0      0  \n2      0      1       0    0       0       0        0     0      0      0  \n3      0      0       0    0       0       0        0     0      0      0  \n4      0      0       0    0       0       0        0     0      0      0  ",
      "text/html": "<div>\n<style scoped>\n    .dataframe tbody tr th:only-of-type {\n        vertical-align: middle;\n    }\n\n    .dataframe tbody tr th {\n        vertical-align: top;\n    }\n\n    .dataframe thead th {\n        text-align: right;\n    }\n</style>\n<table border=\"1\" class=\"dataframe\">\n  <thead>\n    <tr style=\"text-align: right;\">\n      <th></th>\n      <th>MaxHP</th>\n      <th>Capture_rate</th>\n      <th>Dark</th>\n      <th>Dragon</th>\n      <th>Electric</th>\n      <th>Fairy</th>\n      <th>Fighting</th>\n      <th>Fire</th>\n      <th>Flying</th>\n      <th>Ghost</th>\n      <th>Grass</th>\n      <th>Ground</th>\n      <th>Ice</th>\n      <th>Normal</th>\n      <th>Poison</th>\n      <th>Psychic</th>\n      <th>Rock</th>\n      <th>Steel</th>\n      <th>Water</th>\n    </tr>\n  </thead>\n  <tbody>\n    <tr>\n      <th>0</th>\n      <td>113</td>\n      <td>0.20</td>\n      <td>0</td>\n      <td>0</td>\n      <td>0</td>\n      <td>0</td>\n      <td>0</td>\n      <td>0</td>\n      <td>0</td>\n      <td>0</td>\n      <td>1</td>\n      <td>0</td>\n      <td>0</td>\n      <td>0</td>\n      <td>0</td>\n      <td>0</td>\n      <td>0</td>\n      <td>0</td>\n      <td>0</td>\n    </tr>\n    <tr>\n      <th>1</th>\n      <td>134</td>\n      <td>0.10</td>\n      <td>0</td>\n      <td>0</td>\n      <td>0</td>\n      <td>0</td>\n      <td>0</td>\n      <td>0</td>\n      <td>0</td>\n      <td>0</td>\n      <td>1</td>\n      <td>0</td>\n      <td>0</td>\n      <td>0</td>\n      <td>0</td>\n      <td>0</td>\n      <td>0</td>\n      <td>0</td>\n      <td>0</td>\n    </tr>\n    <tr>\n      <th>2</th>\n      <td>162</td>\n      <td>0.05</td>\n      <td>0</td>\n      <td>0</td>\n      <td>0</td>\n      <td>0</td>\n      <td>0</td>\n      <td>0</td>\n      <td>0</td>\n      <td>0</td>\n      <td>1</td>\n      <td>0</td>\n      <td>0</td>\n      <td>0</td>\n      <td>0</td>\n      <td>0</td>\n      <td>0</td>\n      <td>0</td>\n      <td>0</td>\n    </tr>\n    <tr>\n      <th>3</th>\n      <td>105</td>\n      <td>0.20</td>\n      <td>0</td>\n      <td>0</td>\n      <td>0</td>\n      <td>0</td>\n      <td>0</td>\n      <td>1</td>\n      <td>0</td>\n      <td>0</td>\n      <td>0</td>\n      <td>0</td>\n      <td>0</td>\n      <td>0</td>\n      <td>0</td>\n      <td>0</td>\n      <td>0</td>\n      <td>0</td>\n      <td>0</td>\n    </tr>\n    <tr>\n      <th>4</th>\n      <td>131</td>\n      <td>0.10</td>\n      <td>0</td>\n      <td>0</td>\n      <td>0</td>\n      <td>0</td>\n      <td>0</td>\n      <td>1</td>\n      <td>0</td>\n      <td>0</td>\n      <td>0</td>\n      <td>0</td>\n      <td>0</td>\n      <td>0</td>\n      <td>0</td>\n      <td>0</td>\n      <td>0</td>\n      <td>0</td>\n      <td>0</td>\n    </tr>\n  </tbody>\n</table>\n</div>"
     },
     "execution_count": 30,
     "metadata": {},
     "output_type": "execute_result"
    }
   ],
   "source": [
    "pokedex_X.head()"
   ],
   "metadata": {
    "collapsed": false,
    "pycharm": {
     "name": "#%%\n"
    }
   }
  },
  {
   "cell_type": "markdown",
   "source": [
    "\n",
    "\n",
    "## Standardize the data\n",
    "\n",
    "KNN is a distance-based algorithm, which means that it is sensitive to the scale of\n",
    "the features. Therefore, it is a good practice to standardize the data so that each\n",
    "feature has a mean of 0 and standard deviation of 1. We can use the `StandardScaler`\n",
    "function from scikit-learn to standardize the data.\n"
   ],
   "metadata": {
    "collapsed": false,
    "pycharm": {
     "name": "#%% md\n"
    }
   }
  },
  {
   "cell_type": "code",
   "execution_count": 31,
   "outputs": [],
   "source": [
    "from sklearn.preprocessing import StandardScaler\n",
    "\n",
    "scaler = StandardScaler()\n",
    "\n",
    "X_train_scaled = scaler.fit_transform(X_train)\n",
    "\n",
    "X_test_scaled = scaler.transform(X_test)"
   ],
   "metadata": {
    "collapsed": false,
    "pycharm": {
     "name": "#%%\n"
    }
   }
  },
  {
   "cell_type": "markdown",
   "source": [
    "Once the data is preprocessed, we can train the KNN model on the training set. We can\n",
    " use the `KNeighborsClassifier` class from scikit-learn to train the model.\n",
    "\n",
    "Here, we are instantiating the `KNeighborsClassifier` class from scikit-learn and\n",
    "setting the number of neighbors to 10.\n",
    "\n",
    "We need to specify the value of k and the distance metric that we want to use to\n",
    "calculate the distance between data points. For example, Euclidean distance is a\n",
    "common distance metric used in K-NN. The following code shows how to train a K-NN\n",
    "classifier using scikit-learn:"
   ],
   "metadata": {
    "collapsed": false,
    "pycharm": {
     "name": "#%% md\n"
    }
   }
  },
  {
   "cell_type": "code",
   "execution_count": 32,
   "outputs": [],
   "source": [
    "# Instantiate classifier\n",
    "from sklearn.neighbors import KNeighborsClassifier\n",
    "\n",
    "k = 10\n",
    "dist_metric = 'euclidean'\n",
    "\n",
    "knn = KNeighborsClassifier(n_neighbors=k, metric=dist_metric)"
   ],
   "metadata": {
    "collapsed": false,
    "pycharm": {
     "name": "#%%\n"
    }
   }
  },
  {
   "cell_type": "markdown",
   "source": [
    "We then fit our model on the training data using the `fit()` function."
   ],
   "metadata": {
    "collapsed": false,
    "pycharm": {
     "name": "#%% md\n"
    }
   }
  },
  {
   "cell_type": "code",
   "execution_count": 33,
   "outputs": [
    {
     "data": {
      "text/plain": "KNeighborsClassifier(metric='euclidean', n_neighbors=10)"
     },
     "execution_count": 33,
     "metadata": {},
     "output_type": "execute_result"
    }
   ],
   "source": [
    "knn.fit(X_train_scaled, y_train)"
   ],
   "metadata": {
    "collapsed": false,
    "pycharm": {
     "name": "#%%\n"
    }
   }
  },
  {
   "cell_type": "markdown",
   "source": [
    "## Evaluate the model\n",
    "\n",
    "We calculate the accuracy of our model using the `score()` function on our test data."
   ],
   "metadata": {
    "collapsed": false,
    "pycharm": {
     "name": "#%% md\n"
    }
   }
  },
  {
   "cell_type": "code",
   "execution_count": 34,
   "outputs": [
    {
     "name": "stdout",
     "output_type": "stream",
     "text": [
      "Accuracy : 0.9384615384615385, Ratio: 0.9399075500770416\n"
     ]
    }
   ],
   "source": [
    "accuracy = knn.score(X_test_scaled, y_test)\n",
    "\n",
    "not_legendary = pokedex.groupby(\"Legendary\")[\"Legendary\"].count()[0]\n",
    "legendary = pokedex.groupby(\"Legendary\")[\"Legendary\"].count()[1]\n",
    "\n",
    "print(f\"Accuracy : {accuracy}, Ratio: {not_legendary/(legendary+not_legendary)}\")"
   ],
   "metadata": {
    "collapsed": false,
    "pycharm": {
     "name": "#%%\n"
    }
   }
  },
  {
   "cell_type": "markdown",
   "source": [
    "Notice that the accuracy is low considering that 93% of the labels are from not\n",
    "legendary Pokemons.\n",
    "\n",
    "- Larger k -> less complex model -> can cause underfitting\n",
    "- Smaller k -> more complex model -> can lead to overfitting\n",
    "\n",
    "## Bootstrapping\n",
    "\n",
    "Next, we perform a bootstrap by training multiple models with different numbers of\n",
    "neighbors and calculate the training and testing accuracies for each model."
   ],
   "metadata": {
    "collapsed": false,
    "pycharm": {
     "name": "#%% md\n"
    }
   }
  },
  {
   "cell_type": "code",
   "execution_count": 35,
   "outputs": [
    {
     "name": "stdout",
     "output_type": "stream",
     "text": [
      "Neighbors: [ 1  2  3  4  5  6  7  8  9 10 11 12 13 14 15 16 17 18 19 20 21 22 23 24\n",
      " 25 26 27 28 29] \n",
      " Train accuracies: {1: 0.9903660886319846, 2: 0.9845857418111753, 3: 0.9845857418111753, 4: 0.9749518304431599, 5: 0.9788053949903661, 6: 0.976878612716763, 7: 0.976878612716763, 8: 0.9710982658959537, 9: 0.9749518304431599, 10: 0.9653179190751445, 11: 0.9653179190751445, 12: 0.9653179190751445, 13: 0.9653179190751445, 14: 0.9614643545279383, 15: 0.9556840077071291, 16: 0.9518304431599229, 17: 0.9518304431599229, 18: 0.9576107899807321, 19: 0.9518304431599229, 20: 0.9518304431599229, 21: 0.9441233140655106, 22: 0.9576107899807321, 23: 0.9499036608863198, 24: 0.9556840077071291, 25: 0.9479768786127167, 26: 0.9479768786127167, 27: 0.9479768786127167, 28: 0.9556840077071291, 29: 0.9499036608863198} \n",
      " Test accuracies: {1: 0.9692307692307692, 2: 0.9538461538461539, 3: 0.9538461538461539, 4: 0.9538461538461539, 5: 0.9538461538461539, 6: 0.9615384615384616, 7: 0.9615384615384616, 8: 0.9615384615384616, 9: 0.9615384615384616, 10: 0.9384615384615385, 11: 0.9384615384615385, 12: 0.9384615384615385, 13: 0.9461538461538461, 14: 0.9384615384615385, 15: 0.9307692307692308, 16: 0.9384615384615385, 17: 0.9384615384615385, 18: 0.9384615384615385, 19: 0.9384615384615385, 20: 0.9384615384615385, 21: 0.9307692307692308, 22: 0.9384615384615385, 23: 0.9307692307692308, 24: 0.9384615384615385, 25: 0.9307692307692308, 26: 0.9307692307692308, 27: 0.9307692307692308, 28: 0.9384615384615385, 29: 0.9307692307692308}\n"
     ]
    }
   ],
   "source": [
    "train_accuracies = {}\n",
    "test_accuracies = {}\n",
    "neighbors = np.arange(1, 30)\n",
    "\n",
    "for neighbor in neighbors:\n",
    "    # Scale\n",
    "    scaler = StandardScaler()\n",
    "    X_train_scaled = scaler.fit_transform(X_train)\n",
    "    X_test_scaled = scaler.transform(X_test)\n",
    "    # Fit\n",
    "    knn = KNeighborsClassifier(n_neighbors=neighbor)\n",
    "    knn.fit(X_train_scaled, y_train)\n",
    "    # Evaluate\n",
    "    train_accuracies[neighbor] = knn.score(X_train_scaled, y_train)\n",
    "    test_accuracies[neighbor] = knn.score(X_test_scaled, y_test)\n",
    "\n",
    "print(\n",
    "    f\"Neighbors: {neighbors} \\n Train accuracies: {train_accuracies} \\n Test \"\n",
    "    f\"accuracies: {test_accuracies}\"\n",
    ")"
   ],
   "metadata": {
    "collapsed": false,
    "pycharm": {
     "name": "#%%\n"
    }
   }
  },
  {
   "cell_type": "markdown",
   "source": [
    "Here, `np.arange` creates a range of numbers, which are the values we want to test\n",
    "for the number of neighbors in our KNN model. We then loop through each value of\n",
    "neighbor and fit a new `KNeighborsClassifier` model with that value. We then\n",
    "calculate and store the training and testing accuracies for each model.\n",
    "\n",
    "Look at the next plot, on the Testing Accuracy **as k increases beyond `7` we see\n",
    "a significant \"underfitting\" where performance decrease on both test and training sets,\n",
    " as indicated in this plot**."
   ],
   "metadata": {
    "collapsed": false,
    "pycharm": {
     "name": "#%% md\n"
    }
   }
  },
  {
   "cell_type": "code",
   "execution_count": 36,
   "outputs": [
    {
     "data": {
      "text/plain": "<Figure size 640x480 with 1 Axes>",
      "image/png": "[encoded data removed]"
     },
     "metadata": {},
     "output_type": "display_data"
    }
   ],
   "source": [
    "plt.figure()\n",
    "plt.plot(neighbors, train_accuracies.values(), label=\"Training Accuracy\")\n",
    "plt.plot(neighbors, test_accuracies.values(), label=\"Testing Accuracy\")\n",
    "plt.title(\"KNN: Varying Number of Neighbors\")\n",
    "plt.legend()\n",
    "plt.xlabel(\"Number of Neighbors\")\n",
    "plt.ylabel(\"Accuracy\")\n",
    "plt.show()"
   ],
   "metadata": {
    "collapsed": false,
    "pycharm": {
     "name": "#%%\n"
    }
   }
  },
  {
   "cell_type": "markdown",
   "source": [
    "# GridSearchCV: Hyperparameter Tuning\n",
    "\n",
    "In this step, we tune the hyperparameters of the KNN classifier to obtain better\n",
    "performance.\n",
    "\n",
    "To tune the hyperparameters using grid search cross-validation. This is done by\n",
    "creating an instance of the `GridSearchCV` class and passing the `KNeighborsClassifier()`\n",
    " estimator, the param_grid dictionary, and the number of **folds** `(cv=5)` to the\n",
    " constructor. The `fit()` method of the grid_search object is then called on the\n",
    " training set `(X_train_scaled, y_train)` to train and validate the model with\n",
    " different hyperparameters.\n",
    "\n",
    "Also is important to consider the next scores, in order to let the GridSearch select\n",
    "the best parameters:\n",
    "\n",
    "- 'accuracy': This is the default scoring parameter, and it measures the fraction of\n",
    "correctly classified samples.\n",
    "- 'precision': Precision is the fraction of true positives among the predicted positives.\n",
    "- 'recall': Recall is the fraction of true positives among the actual positives.\n",
    "- 'f1': F1 score is the harmonic mean of precision and recall. It is a balanced\n",
    "measure that takes into account both precision and recall.\n",
    "- 'roc_auc': Area under the receiver operating characteristic (ROC) curve. It\n",
    "measures the ability of the model to discriminate between positive and negative samples."
   ],
   "metadata": {
    "collapsed": false,
    "pycharm": {
     "name": "#%% md\n"
    }
   }
  },
  {
   "cell_type": "code",
   "execution_count": 37,
   "outputs": [
    {
     "data": {
      "text/plain": "GridSearchCV(cv=KFold(n_splits=5, random_state=42, shuffle=True),\n             estimator=KNeighborsClassifier(),\n             param_grid={'metric': ['cosine', 'euclidean', 'manhattan'],\n                         'n_jobs': [-1],\n                         'n_neighbors': array([ 1,  2,  3,  4,  5,  6,  7,  8,  9, 10, 11, 12, 13, 14, 15, 16, 17,\n       18, 19, 20, 21, 22, 23, 24, 25, 26, 27, 28, 29]),\n                         'weights': ['uniform', 'distance']},\n             scoring='f1')"
     },
     "execution_count": 37,
     "metadata": {},
     "output_type": "execute_result"
    }
   ],
   "source": [
    "from sklearn.model_selection import GridSearchCV, KFold\n",
    "from sklearn.metrics import accuracy_score\n",
    "\n",
    "# Define the hyperparameters to tune\n",
    "param_grid = {'n_neighbors': np.arange(1, 30),\n",
    "              'metric': ['cosine', 'euclidean', 'manhattan'],\n",
    "              'n_jobs': [-1],\n",
    "              'weights': ['uniform', 'distance']}\n",
    "\n",
    "# Create 5 K-Fold instance to split the data\n",
    "kf = KFold(n_splits=5, shuffle=True, random_state=42)\n",
    "\n",
    "# Tune the hyperparameters using grid search\n",
    "scoring = {'accuracy': None, 'f1': None, 'precision': None, 'recall': None, 'roc_auc': None}\n",
    "grid_search = GridSearchCV(KNeighborsClassifier(), param_grid=param_grid, cv=kf,\n",
    "                           scoring='f1')\n",
    "grid_search.fit(X_train_scaled, y_train)"
   ],
   "metadata": {
    "collapsed": false,
    "pycharm": {
     "name": "#%%\n"
    }
   }
  },
  {
   "cell_type": "markdown",
   "source": [
    "However, this is computationally expensive, to perform the last Hyperparameter search\n",
    " we CPU did:\n",
    "\n",
    "- 5 fold cross-validation, 2 hyperparameters ~2,500 values = 25,000 fits to evaluate\n",
    "\n",
    "For this reason we can also do the next\n",
    "\n",
    "# RandomSearchCV: Hyperparameter Tuning\n",
    "\n",
    "Here we can set a `n_iter` argument to limit the number to hyperparameters to evaluate\n"
   ],
   "metadata": {
    "collapsed": false,
    "pycharm": {
     "name": "#%% md\n"
    }
   }
  },
  {
   "cell_type": "code",
   "execution_count": 39,
   "outputs": [
    {
     "name": "stdout",
     "output_type": "stream",
     "text": [
      "Best hyperparameters: {'weights': 'distance', 'n_neighbors': 23, 'n_jobs': -1, 'metric': 'manhattan'}\n",
      "Accuracy with best hyperparameters: 0.9615384615384616\n"
     ]
    }
   ],
   "source": [
    "from sklearn.model_selection import RandomizedSearchCV\n",
    "\n",
    "# Tune the hyperparameters using grid search\n",
    "grid_search = RandomizedSearchCV(KNeighborsClassifier(), param_distributions=param_grid, cv=kf)\n",
    "grid_search.fit(X_train_scaled, y_train)\n",
    "\n",
    "# Print the best hyperparameters\n",
    "print(\"Best hyperparameters:\", grid_search.best_params_)\n",
    "\n",
    "# Train the KNN classifier using the best hyperparameters\n",
    "knn_best = grid_search.best_estimator_\n",
    "knn_best.fit(X_train_scaled, y_train)\n",
    "\n",
    "# Evaluate the performance of the KNN classifier with the best hyperparameters\n",
    "y_pred = knn_best.predict(X_test_scaled)\n",
    "accuracy = accuracy_score(y_test, y_pred)\n",
    "print(\"Accuracy with best hyperparameters:\", accuracy)\n"
   ],
   "metadata": {
    "collapsed": false,
    "pycharm": {
     "name": "#%%\n"
    }
   }
  },
  {
   "cell_type": "markdown",
   "source": [
    "## References\n",
    "\n",
    "As a reference from the transcript of the CS 229S Stanford Machine Learning course\n",
    "transcript notes on K-Nearest Neighbors."
   ],
   "metadata": {
    "collapsed": false,
    "pycharm": {
     "name": "#%% md\n"
    }
   }
  }
 ],
 "metadata": {
  "kernelspec": {
   "display_name": "Python 3",
   "language": "python",
   "name": "python3"
  },
  "language_info": {
   "codemirror_mode": {
    "name": "ipython",
    "version": 2
   },
   "file_extension": ".py",
   "mimetype": "text/x-python",
   "name": "python",
   "nbconvert_exporter": "python",
   "pygments_lexer": "ipython2",
   "version": "2.7.6"
  }
 },
 "nbformat": 4,
 "nbformat_minor": 0
}