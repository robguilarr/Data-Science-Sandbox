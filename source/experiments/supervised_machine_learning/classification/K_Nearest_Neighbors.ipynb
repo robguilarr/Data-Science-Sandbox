{
 "cells": [
  {
   "cell_type": "markdown",
   "source": [
    "# K-Nearest Neighbors\n",
    "\n",
    "KNN is a **non-parametric** algorithm used for classification and regression tasks.\n",
    "It works by finding the K closest data points in the training set to a new data point\n",
    " and assigning the new point the class label that is most common among the K neighbors.\n",
    "\n",
    "Load the dataset and set-up code:"
   ],
   "metadata": {
    "collapsed": false,
    "pycharm": {
     "name": "#%% md\n"
    }
   }
  },
  {
   "cell_type": "code",
   "execution_count": 54,
   "outputs": [
    {
     "name": "stdout",
     "output_type": "stream",
     "text": [
      "(649, 5) (649, 1)\n"
     ]
    }
   ],
   "source": [
    "# Set up notebook\n",
    "import pandas as pd\n",
    "import numpy as np\n",
    "import matplotlib.pyplot as plt\n",
    "\n",
    "home_directory = \"C:/Users/rober/DataspellProjects/Machine-Learning-Sandbox\"\n",
    "\n",
    "pokedex = pd.read_csv(\n",
    "    filepath_or_buffer=home_directory + \"/data/01_pokemon/pokemon_go.csv\"\n",
    ")\n",
    "\n",
    "# Features (numpy arrays)\n",
    "X = pokedex[[\"MaxHP\", \"Capture_rate\", \"Stamina\", \"Attack\", \"Defense\"]].values\n",
    "# Target variable (numpy arrays)\n",
    "y = pokedex[[\"Legendary\"]].values\n",
    "\n",
    "print(X.shape, y.shape)"
   ],
   "metadata": {
    "collapsed": false,
    "pycharm": {
     "name": "#%%\n"
    }
   }
  },
  {
   "cell_type": "markdown",
   "source": [
    "## Split the dataset\n",
    "\n",
    "First, we are splitting our data into training and testing sets using\n",
    "`train_test_split()` function from scikit-learn library. The `stratify` parameter\n",
    "ensures that the proportion of classes in the training and testing sets remains the\n",
    "same as in the original dataset. This is useful to make sure we are not biased\n",
    "towards one class during training."
   ],
   "metadata": {
    "collapsed": false,
    "pycharm": {
     "name": "#%% md\n"
    }
   }
  },
  {
   "cell_type": "code",
   "execution_count": 55,
   "outputs": [],
   "source": [
    "# Train/Test Split\n",
    "from sklearn.model_selection import train_test_split\n",
    "\n",
    "# We use 'stratify' to represent the same proportion of labels on the test and the train\n",
    "X_train, X_test, y_train, y_test = train_test_split(\n",
    " X, y, test_size=0.2, random_state=21, stratify=y\n",
    ")"
   ],
   "metadata": {
    "collapsed": false,
    "pycharm": {
     "name": "#%%\n"
    }
   }
  },
  {
   "cell_type": "markdown",
   "source": [
    "Here `X` is the feature matrix and `y` is the target variable. `test_size=0.2`\n",
    "specifies that we want to use 20% of the data for testing, while the remaining 80%\n",
    "will be used for training. The `random_state` parameter is used to ensure\n",
    "reproducibility, while `stratify=y` ensures that the classes are proportionally\n",
    "represented in the train-test split.\n",
    "\n",
    "## Standardize the data\n",
    "\n",
    "KNN is a distance-based algorithm, which means that it is sensitive to the scale of\n",
    "the features. Therefore, it is a good practice to standardize the data so that each\n",
    "feature has a mean of 0 and standard deviation of 1. We can use the `StandardScaler`\n",
    "function from scikit-learn to standardize the data.\n"
   ],
   "metadata": {
    "collapsed": false,
    "pycharm": {
     "name": "#%% md\n"
    }
   }
  },
  {
   "cell_type": "code",
   "execution_count": 56,
   "outputs": [],
   "source": [
    "from sklearn.preprocessing import StandardScaler\n",
    "\n",
    "scaler = StandardScaler()\n",
    "\n",
    "X_train_scaled = scaler.fit_transform(X_train)\n",
    "\n",
    "X_test_scaled = scaler.transform(X_test)"
   ],
   "metadata": {
    "collapsed": false,
    "pycharm": {
     "name": "#%%\n"
    }
   }
  },
  {
   "cell_type": "markdown",
   "source": [
    "Once the data is preprocessed, we can train the KNN model on the training set. We can\n",
    " use the `KNeighborsClassifier` class from scikit-learn to train the model.\n",
    "\n",
    "Here, we are instantiating the `KNeighborsClassifier` class from scikit-learn and\n",
    "setting the number of neighbors to 10."
   ],
   "metadata": {
    "collapsed": false,
    "pycharm": {
     "name": "#%% md\n"
    }
   }
  },
  {
   "cell_type": "code",
   "execution_count": 57,
   "outputs": [],
   "source": [
    "# Instantiate classifier\n",
    "from sklearn.neighbors import KNeighborsClassifier\n",
    "\n",
    "knn = KNeighborsClassifier(n_neighbors=10)"
   ],
   "metadata": {
    "collapsed": false,
    "pycharm": {
     "name": "#%%\n"
    }
   }
  },
  {
   "cell_type": "markdown",
   "source": [
    "We then fit our model on the training data using the `fit()` function."
   ],
   "metadata": {
    "collapsed": false,
    "pycharm": {
     "name": "#%% md\n"
    }
   }
  },
  {
   "cell_type": "code",
   "execution_count": 58,
   "outputs": [
    {
     "name": "stderr",
     "output_type": "stream",
     "text": [
      "C:\\Users\\rober\\anaconda3\\lib\\site-packages\\sklearn\\neighbors\\_classification.py:179: DataConversionWarning: A column-vector y was passed when a 1d array was expected. Please change the shape of y to (n_samples,), for example using ravel().\n",
      "  return self._fit(X, y)\n"
     ]
    },
    {
     "data": {
      "text/plain": "KNeighborsClassifier(n_neighbors=10)"
     },
     "execution_count": 58,
     "metadata": {},
     "output_type": "execute_result"
    }
   ],
   "source": [
    "knn.fit(X_train_scaled, y_train)"
   ],
   "metadata": {
    "collapsed": false,
    "pycharm": {
     "name": "#%%\n"
    }
   }
  },
  {
   "cell_type": "markdown",
   "source": [
    "## Evaluate the model\n",
    "\n",
    "We calculate the accuracy of our model using the `score()` function on our test data."
   ],
   "metadata": {
    "collapsed": false,
    "pycharm": {
     "name": "#%% md\n"
    }
   }
  },
  {
   "cell_type": "code",
   "execution_count": 59,
   "outputs": [
    {
     "name": "stdout",
     "output_type": "stream",
     "text": [
      "Accuracy : 0.9538461538461539, Ratio: 0.9399075500770416\n"
     ]
    }
   ],
   "source": [
    "accuracy = knn.score(X_test_scaled, y_test)\n",
    "\n",
    "not_legendary = pokedex.groupby(\"Legendary\")[\"Legendary\"].count()[0]\n",
    "legendary = pokedex.groupby(\"Legendary\")[\"Legendary\"].count()[1]\n",
    "\n",
    "print(f\"Accuracy : {accuracy}, Ratio: {not_legendary/(legendary+not_legendary)}\")"
   ],
   "metadata": {
    "collapsed": false,
    "pycharm": {
     "name": "#%%\n"
    }
   }
  },
  {
   "cell_type": "markdown",
   "source": [
    "Notice that the accuracy is low considering that 93% of the labels are from not\n",
    "legendary Pokemons.\n",
    "\n",
    "- Larger k -> less complex model -> can cause underfitting\n",
    "- Smaller k -> more complex model -> can lead to overfitting\n",
    "\n",
    "## Bootstrapping\n",
    "\n",
    "Next, we perform a bootstrap by training multiple models with different numbers of\n",
    "neighbors and calculate the training and testing accuracies for each model."
   ],
   "metadata": {
    "collapsed": false,
    "pycharm": {
     "name": "#%% md\n"
    }
   }
  },
  {
   "cell_type": "code",
   "execution_count": 60,
   "outputs": [
    {
     "name": "stderr",
     "output_type": "stream",
     "text": [
      "C:\\Users\\rober\\anaconda3\\lib\\site-packages\\sklearn\\neighbors\\_classification.py:179: DataConversionWarning: A column-vector y was passed when a 1d array was expected. Please change the shape of y to (n_samples,), for example using ravel().\n",
      "  return self._fit(X, y)\n",
      "C:\\Users\\rober\\anaconda3\\lib\\site-packages\\sklearn\\neighbors\\_classification.py:179: DataConversionWarning: A column-vector y was passed when a 1d array was expected. Please change the shape of y to (n_samples,), for example using ravel().\n",
      "  return self._fit(X, y)\n",
      "C:\\Users\\rober\\anaconda3\\lib\\site-packages\\sklearn\\neighbors\\_classification.py:179: DataConversionWarning: A column-vector y was passed when a 1d array was expected. Please change the shape of y to (n_samples,), for example using ravel().\n",
      "  return self._fit(X, y)\n",
      "C:\\Users\\rober\\anaconda3\\lib\\site-packages\\sklearn\\neighbors\\_classification.py:179: DataConversionWarning: A column-vector y was passed when a 1d array was expected. Please change the shape of y to (n_samples,), for example using ravel().\n",
      "  return self._fit(X, y)\n",
      "C:\\Users\\rober\\anaconda3\\lib\\site-packages\\sklearn\\neighbors\\_classification.py:179: DataConversionWarning: A column-vector y was passed when a 1d array was expected. Please change the shape of y to (n_samples,), for example using ravel().\n",
      "  return self._fit(X, y)\n",
      "C:\\Users\\rober\\anaconda3\\lib\\site-packages\\sklearn\\neighbors\\_classification.py:179: DataConversionWarning: A column-vector y was passed when a 1d array was expected. Please change the shape of y to (n_samples,), for example using ravel().\n",
      "  return self._fit(X, y)\n",
      "C:\\Users\\rober\\anaconda3\\lib\\site-packages\\sklearn\\neighbors\\_classification.py:179: DataConversionWarning: A column-vector y was passed when a 1d array was expected. Please change the shape of y to (n_samples,), for example using ravel().\n",
      "  return self._fit(X, y)\n",
      "C:\\Users\\rober\\anaconda3\\lib\\site-packages\\sklearn\\neighbors\\_classification.py:179: DataConversionWarning: A column-vector y was passed when a 1d array was expected. Please change the shape of y to (n_samples,), for example using ravel().\n",
      "  return self._fit(X, y)\n",
      "C:\\Users\\rober\\anaconda3\\lib\\site-packages\\sklearn\\neighbors\\_classification.py:179: DataConversionWarning: A column-vector y was passed when a 1d array was expected. Please change the shape of y to (n_samples,), for example using ravel().\n",
      "  return self._fit(X, y)\n",
      "C:\\Users\\rober\\anaconda3\\lib\\site-packages\\sklearn\\neighbors\\_classification.py:179: DataConversionWarning: A column-vector y was passed when a 1d array was expected. Please change the shape of y to (n_samples,), for example using ravel().\n",
      "  return self._fit(X, y)\n",
      "C:\\Users\\rober\\anaconda3\\lib\\site-packages\\sklearn\\neighbors\\_classification.py:179: DataConversionWarning: A column-vector y was passed when a 1d array was expected. Please change the shape of y to (n_samples,), for example using ravel().\n",
      "  return self._fit(X, y)\n",
      "C:\\Users\\rober\\anaconda3\\lib\\site-packages\\sklearn\\neighbors\\_classification.py:179: DataConversionWarning: A column-vector y was passed when a 1d array was expected. Please change the shape of y to (n_samples,), for example using ravel().\n",
      "  return self._fit(X, y)\n",
      "C:\\Users\\rober\\anaconda3\\lib\\site-packages\\sklearn\\neighbors\\_classification.py:179: DataConversionWarning: A column-vector y was passed when a 1d array was expected. Please change the shape of y to (n_samples,), for example using ravel().\n",
      "  return self._fit(X, y)\n",
      "C:\\Users\\rober\\anaconda3\\lib\\site-packages\\sklearn\\neighbors\\_classification.py:179: DataConversionWarning: A column-vector y was passed when a 1d array was expected. Please change the shape of y to (n_samples,), for example using ravel().\n",
      "  return self._fit(X, y)\n",
      "C:\\Users\\rober\\anaconda3\\lib\\site-packages\\sklearn\\neighbors\\_classification.py:179: DataConversionWarning: A column-vector y was passed when a 1d array was expected. Please change the shape of y to (n_samples,), for example using ravel().\n",
      "  return self._fit(X, y)\n"
     ]
    },
    {
     "name": "stdout",
     "output_type": "stream",
     "text": [
      "Neighbors: [ 1  2  3  4  5  6  7  8  9 10 11 12 13 14 15 16 17 18 19] \n",
      " Train accuracies: {1: 0.9922928709055877, 2: 0.9788053949903661, 3: 0.9710982658959537, 4: 0.976878612716763, 5: 0.9710982658959537, 6: 0.9653179190751445, 7: 0.9653179190751445, 8: 0.9633911368015414, 9: 0.9653179190751445, 10: 0.9653179190751445, 11: 0.9653179190751445, 12: 0.9556840077071291, 13: 0.9595375722543352, 14: 0.9576107899807321, 15: 0.9556840077071291, 16: 0.9518304431599229, 17: 0.9499036608863198, 18: 0.9556840077071291, 19: 0.953757225433526} \n",
      " Test accuracies: {1: 0.9615384615384616, 2: 0.9538461538461539, 3: 0.9615384615384616, 4: 0.9769230769230769, 5: 0.9615384615384616, 6: 0.9615384615384616, 7: 0.9615384615384616, 8: 0.9538461538461539, 9: 0.9538461538461539, 10: 0.9538461538461539, 11: 0.9538461538461539, 12: 0.9538461538461539, 13: 0.9615384615384616, 14: 0.9615384615384616, 15: 0.9615384615384616, 16: 0.9538461538461539, 17: 0.9538461538461539, 18: 0.9538461538461539, 19: 0.9538461538461539}\n"
     ]
    },
    {
     "name": "stderr",
     "output_type": "stream",
     "text": [
      "C:\\Users\\rober\\anaconda3\\lib\\site-packages\\sklearn\\neighbors\\_classification.py:179: DataConversionWarning: A column-vector y was passed when a 1d array was expected. Please change the shape of y to (n_samples,), for example using ravel().\n",
      "  return self._fit(X, y)\n",
      "C:\\Users\\rober\\anaconda3\\lib\\site-packages\\sklearn\\neighbors\\_classification.py:179: DataConversionWarning: A column-vector y was passed when a 1d array was expected. Please change the shape of y to (n_samples,), for example using ravel().\n",
      "  return self._fit(X, y)\n",
      "C:\\Users\\rober\\anaconda3\\lib\\site-packages\\sklearn\\neighbors\\_classification.py:179: DataConversionWarning: A column-vector y was passed when a 1d array was expected. Please change the shape of y to (n_samples,), for example using ravel().\n",
      "  return self._fit(X, y)\n",
      "C:\\Users\\rober\\anaconda3\\lib\\site-packages\\sklearn\\neighbors\\_classification.py:179: DataConversionWarning: A column-vector y was passed when a 1d array was expected. Please change the shape of y to (n_samples,), for example using ravel().\n",
      "  return self._fit(X, y)\n"
     ]
    }
   ],
   "source": [
    "train_accuracies = {}\n",
    "test_accuracies = {}\n",
    "neighbors = np.arange(1, 20)\n",
    "\n",
    "for neighbor in neighbors:\n",
    "    # Scale\n",
    "    scaler = StandardScaler()\n",
    "    X_train_scaled = scaler.fit_transform(X_train)\n",
    "    X_test_scaled = scaler.transform(X_test)\n",
    "    # Fit\n",
    "    knn = KNeighborsClassifier(n_neighbors=neighbor)\n",
    "    knn.fit(X_train_scaled, y_train)\n",
    "    # Evaluate\n",
    "    train_accuracies[neighbor] = knn.score(X_train_scaled, y_train)\n",
    "    test_accuracies[neighbor] = knn.score(X_test_scaled, y_test)\n",
    "\n",
    "print(\n",
    "    f\"Neighbors: {neighbors} \\n Train accuracies: {train_accuracies} \\n Test \"\n",
    "    f\"accuracies: {test_accuracies}\"\n",
    ")"
   ],
   "metadata": {
    "collapsed": false,
    "pycharm": {
     "name": "#%%\n"
    }
   }
  },
  {
   "cell_type": "markdown",
   "source": [
    "Here, `np.arange` creates a range of numbers, which are the values we want to test\n",
    "for the number of neighbors in our KNN model. We then loop through each value of\n",
    "neighbor and fit a new `KNeighborsClassifier` model with that value. We then\n",
    "calculate and store the training and testing accuracies for each model.\n",
    "\n",
    "Look at the next plot, on the Testing Accuracy **as k increases beyond `4` we see\n",
    "overfitting where performance plateaus on both test and training sets, as indicated in this plot**."
   ],
   "metadata": {
    "collapsed": false,
    "pycharm": {
     "name": "#%% md\n"
    }
   }
  },
  {
   "cell_type": "code",
   "execution_count": 61,
   "outputs": [
    {
     "data": {
      "text/plain": "<Figure size 640x480 with 1 Axes>",
      "image/png": "[encoded data removed]"
     },
     "metadata": {},
     "output_type": "display_data"
    }
   ],
   "source": [
    "plt.figure()\n",
    "plt.plot(neighbors, train_accuracies.values(), label=\"Training Accuracy\")\n",
    "plt.plot(neighbors, test_accuracies.values(), label=\"Testing Accuracy\")\n",
    "plt.title(\"KNN: Varying Number of Neighbors\")\n",
    "plt.legend()\n",
    "plt.xlabel(\"Number of Neighbors\")\n",
    "plt.ylabel(\"Accuracy\")\n",
    "plt.show()"
   ],
   "metadata": {
    "collapsed": false,
    "pycharm": {
     "name": "#%%\n"
    }
   }
  },
  {
   "cell_type": "markdown",
   "source": [
    "## References\n",
    "\n",
    "As a reference from the transcript of the CS 229S Stanford Machine Learning course, lecture notes on K-Nearest Neighbors are available at:\n",
    "<http://cs229.stanford.edu/notes/cs229-notes1.pdf>."
   ],
   "metadata": {
    "collapsed": false,
    "pycharm": {
     "name": "#%% md\n"
    }
   }
  }
 ],
 "metadata": {
  "kernelspec": {
   "display_name": "Python 3",
   "language": "python",
   "name": "python3"
  },
  "language_info": {
   "codemirror_mode": {
    "name": "ipython",
    "version": 2
   },
   "file_extension": ".py",
   "mimetype": "text/x-python",
   "name": "python",
   "nbconvert_exporter": "python",
   "pygments_lexer": "ipython2",
   "version": "2.7.6"
  }
 },
 "nbformat": 4,
 "nbformat_minor": 0
}