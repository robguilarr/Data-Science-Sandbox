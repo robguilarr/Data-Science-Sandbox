{
 "cells": [
  {
   "cell_type": "markdown",
   "source": [
    "# Path to data\n",
    "\n",
    "[Kaggle Dataset](https://www.kaggle.com/datasets/mylesoneill/warcraft-avatar-history?select=zones.csv)\n",
    "\n",
    "[Source data parser](https://github.com/myles-oneill/WoWAH-parser/blob/master/wowah-parser.py)\n",
    "\n"
   ],
   "metadata": {
    "collapsed": false,
    "pycharm": {
     "name": "#%% md\n"
    }
   }
  },
  {
   "cell_type": "code",
   "execution_count": 1,
   "metadata": {
    "collapsed": true,
    "pycharm": {
     "name": "#%%\n"
    }
   },
   "outputs": [],
   "source": [
    "import warnings\n",
    "warnings.filterwarnings('ignore')\n",
    "\n",
    "# Set up notebook\n",
    "import pandas as pd\n",
    "import numpy as np\n",
    "import matplotlib.pyplot as plt\n",
    "\n",
    "home_directory = \"C:/Users/rober/DataspellProjects/Machine-Learning-Sandbox\""
   ]
  },
  {
   "cell_type": "code",
   "execution_count": 2,
   "outputs": [],
   "source": [
    "wowah_data = pd.read_csv(\n",
    "    filepath_or_buffer=home_directory + \"/data/02_world_of_warcraft/avatar_history/wowah_data.csv\"\n",
    ")\n",
    "zones = pd.read_csv(\n",
    "    filepath_or_buffer=home_directory + \"/data/02_world_of_warcraft/avatar_history/zones.csv\"\n",
    ")\n",
    "location_coords = pd.read_csv(\n",
    "    filepath_or_buffer=home_directory +\n",
    "                       \"/data/02_world_of_warcraft/avatar_history/location_coords.csv\"\n",
    ")\n",
    "locations = pd.read_csv(\n",
    "    filepath_or_buffer=home_directory + \"/data/02_world_of_warcraft/avatar_history/locations.csv\"\n",
    ")"
   ],
   "metadata": {
    "collapsed": false,
    "pycharm": {
     "name": "#%%\n"
    }
   }
  },
  {
   "cell_type": "code",
   "execution_count": 3,
   "outputs": [
    {
     "data": {
      "text/plain": "    char   level  race  charclass                zone   guild  \\\n0  59425       1   Orc      Rogue           Orgrimmar     165   \n1  65494       9   Orc     Hunter             Durotar      -1   \n2  65325      14   Orc    Warrior          Ghostlands      -1   \n3  65490      18   Orc     Hunter          Ghostlands      -1   \n4   2288      60   Orc     Hunter  Hellfire Peninsula      -1   \n\n           timestamp  \n0  01/01/08 00:02:04  \n1  01/01/08 00:02:04  \n2  01/01/08 00:02:04  \n3  01/01/08 00:02:04  \n4  01/01/08 00:02:09  ",
      "text/html": "<div>\n<style scoped>\n    .dataframe tbody tr th:only-of-type {\n        vertical-align: middle;\n    }\n\n    .dataframe tbody tr th {\n        vertical-align: top;\n    }\n\n    .dataframe thead th {\n        text-align: right;\n    }\n</style>\n<table border=\"1\" class=\"dataframe\">\n  <thead>\n    <tr style=\"text-align: right;\">\n      <th></th>\n      <th>char</th>\n      <th>level</th>\n      <th>race</th>\n      <th>charclass</th>\n      <th>zone</th>\n      <th>guild</th>\n      <th>timestamp</th>\n    </tr>\n  </thead>\n  <tbody>\n    <tr>\n      <th>0</th>\n      <td>59425</td>\n      <td>1</td>\n      <td>Orc</td>\n      <td>Rogue</td>\n      <td>Orgrimmar</td>\n      <td>165</td>\n      <td>01/01/08 00:02:04</td>\n    </tr>\n    <tr>\n      <th>1</th>\n      <td>65494</td>\n      <td>9</td>\n      <td>Orc</td>\n      <td>Hunter</td>\n      <td>Durotar</td>\n      <td>-1</td>\n      <td>01/01/08 00:02:04</td>\n    </tr>\n    <tr>\n      <th>2</th>\n      <td>65325</td>\n      <td>14</td>\n      <td>Orc</td>\n      <td>Warrior</td>\n      <td>Ghostlands</td>\n      <td>-1</td>\n      <td>01/01/08 00:02:04</td>\n    </tr>\n    <tr>\n      <th>3</th>\n      <td>65490</td>\n      <td>18</td>\n      <td>Orc</td>\n      <td>Hunter</td>\n      <td>Ghostlands</td>\n      <td>-1</td>\n      <td>01/01/08 00:02:04</td>\n    </tr>\n    <tr>\n      <th>4</th>\n      <td>2288</td>\n      <td>60</td>\n      <td>Orc</td>\n      <td>Hunter</td>\n      <td>Hellfire Peninsula</td>\n      <td>-1</td>\n      <td>01/01/08 00:02:09</td>\n    </tr>\n  </tbody>\n</table>\n</div>"
     },
     "execution_count": 3,
     "metadata": {},
     "output_type": "execute_result"
    }
   ],
   "source": [
    "wowah_data.head()"
   ],
   "metadata": {
    "collapsed": false,
    "pycharm": {
     "name": "#%%\n"
    }
   }
  },
  {
   "cell_type": "code",
   "execution_count": 32,
   "outputs": [
    {
     "data": {
      "text/plain": "                            Zone_Name         Continent       Area  \\\n155                 Vault of Archavon         Northrend  Northrend   \n156               The Eye of Eternity         Northrend  Northrend   \n157              The Obsidian Sanctum         Northrend  Northrend   \n158  <U+9F8D><U+9AA8><U+8352><U+91CE>         Northrend  Northrend   \n159  <U+5317><U+65B9><U+6D77><U+5CB8>  Eastern Kingdoms  Lordaeron   \n\n                Zone               Subzone     Type  Size Controlled  \\\n155      Wintergrasp  Wintergrasp Fortress  Dungeon  25.0  Contested   \n156    Borean Tundra              Coldarra  Dungeon  25.0  Contested   \n157     Dragonblight    Chamber of Aspects  Dungeon  25.0  Contested   \n158     Dragonblight          Dragonblight     Zone   NaN  Contested   \n159  Tirisfal Glades           North Coast     Zone   NaN  Contested   \n\n     Min_req_level  Min_rec_level  Max_rec_level  Min_bot_level  Max_bot_level  \n155             80           80.0           80.0           80.0           80.0  \n156             80           80.0           80.0           80.0           80.0  \n157             80           80.0           80.0           80.0           80.0  \n158              1           72.0           75.0           72.0           75.0  \n159              1            1.0          100.0            1.0          100.0  ",
      "text/html": "<div>\n<style scoped>\n    .dataframe tbody tr th:only-of-type {\n        vertical-align: middle;\n    }\n\n    .dataframe tbody tr th {\n        vertical-align: top;\n    }\n\n    .dataframe thead th {\n        text-align: right;\n    }\n</style>\n<table border=\"1\" class=\"dataframe\">\n  <thead>\n    <tr style=\"text-align: right;\">\n      <th></th>\n      <th>Zone_Name</th>\n      <th>Continent</th>\n      <th>Area</th>\n      <th>Zone</th>\n      <th>Subzone</th>\n      <th>Type</th>\n      <th>Size</th>\n      <th>Controlled</th>\n      <th>Min_req_level</th>\n      <th>Min_rec_level</th>\n      <th>Max_rec_level</th>\n      <th>Min_bot_level</th>\n      <th>Max_bot_level</th>\n    </tr>\n  </thead>\n  <tbody>\n    <tr>\n      <th>155</th>\n      <td>Vault of Archavon</td>\n      <td>Northrend</td>\n      <td>Northrend</td>\n      <td>Wintergrasp</td>\n      <td>Wintergrasp Fortress</td>\n      <td>Dungeon</td>\n      <td>25.0</td>\n      <td>Contested</td>\n      <td>80</td>\n      <td>80.0</td>\n      <td>80.0</td>\n      <td>80.0</td>\n      <td>80.0</td>\n    </tr>\n    <tr>\n      <th>156</th>\n      <td>The Eye of Eternity</td>\n      <td>Northrend</td>\n      <td>Northrend</td>\n      <td>Borean Tundra</td>\n      <td>Coldarra</td>\n      <td>Dungeon</td>\n      <td>25.0</td>\n      <td>Contested</td>\n      <td>80</td>\n      <td>80.0</td>\n      <td>80.0</td>\n      <td>80.0</td>\n      <td>80.0</td>\n    </tr>\n    <tr>\n      <th>157</th>\n      <td>The Obsidian Sanctum</td>\n      <td>Northrend</td>\n      <td>Northrend</td>\n      <td>Dragonblight</td>\n      <td>Chamber of Aspects</td>\n      <td>Dungeon</td>\n      <td>25.0</td>\n      <td>Contested</td>\n      <td>80</td>\n      <td>80.0</td>\n      <td>80.0</td>\n      <td>80.0</td>\n      <td>80.0</td>\n    </tr>\n    <tr>\n      <th>158</th>\n      <td>&lt;U+9F8D&gt;&lt;U+9AA8&gt;&lt;U+8352&gt;&lt;U+91CE&gt;</td>\n      <td>Northrend</td>\n      <td>Northrend</td>\n      <td>Dragonblight</td>\n      <td>Dragonblight</td>\n      <td>Zone</td>\n      <td>NaN</td>\n      <td>Contested</td>\n      <td>1</td>\n      <td>72.0</td>\n      <td>75.0</td>\n      <td>72.0</td>\n      <td>75.0</td>\n    </tr>\n    <tr>\n      <th>159</th>\n      <td>&lt;U+5317&gt;&lt;U+65B9&gt;&lt;U+6D77&gt;&lt;U+5CB8&gt;</td>\n      <td>Eastern Kingdoms</td>\n      <td>Lordaeron</td>\n      <td>Tirisfal Glades</td>\n      <td>North Coast</td>\n      <td>Zone</td>\n      <td>NaN</td>\n      <td>Contested</td>\n      <td>1</td>\n      <td>1.0</td>\n      <td>100.0</td>\n      <td>1.0</td>\n      <td>100.0</td>\n    </tr>\n  </tbody>\n</table>\n</div>"
     },
     "execution_count": 32,
     "metadata": {},
     "output_type": "execute_result"
    }
   ],
   "source": [
    "zones.tail()"
   ],
   "metadata": {
    "collapsed": false,
    "pycharm": {
     "name": "#%%\n"
    }
   }
  },
  {
   "cell_type": "code",
   "execution_count": 31,
   "outputs": [
    {
     "name": "stdout",
     "output_type": "stream",
     "text": [
      "Number of Continent's: 7\n",
      "Number of NaN values in Continent: 0\n",
      " \n",
      "Number of Area's: 12\n",
      "Number of NaN values in Area: 3\n",
      " \n",
      "Number of Zone's: 80\n",
      "Number of NaN values in Zone: 7\n",
      " \n",
      "Number of Subzone's: 38\n",
      "Number of NaN values in Subzone: 108\n",
      " \n",
      "Number of Zone_Name's: 160\n",
      "Number of NaN values in Zone_Name: 0\n",
      " \n"
     ]
    }
   ],
   "source": [
    "for zone_lvl in [\"Continent\",\"Area\",\"Zone\",\"Subzone\",\"Zone_Name\"]:\n",
    "    print(f\"Number of {zone_lvl}'s:\", len(zones[zone_lvl].unique()))\n",
    "    print(f\"Number of NaN values in {zone_lvl}:\", zones[zone_lvl].isna().sum())\n",
    "    print(\" \")"
   ],
   "metadata": {
    "collapsed": false,
    "pycharm": {
     "name": "#%%\n"
    }
   }
  },
  {
   "cell_type": "markdown",
   "source": [
    "We should avoid using Subzone for our `map_hierarchy_lvl_1`\n",
    "\n",
    "Now, should I do a tree per zone or per what????"
   ],
   "metadata": {
    "collapsed": false,
    "pycharm": {
     "name": "#%% md\n"
    }
   }
  },
  {
   "cell_type": "code",
   "execution_count": 5,
   "outputs": [
    {
     "data": {
      "text/plain": "                             Location_Name  Map_ID      X_coord     Y_coord  \\\n0       Eastern Kingdom: Ironforge Airport     0.0 -4488.993311 -1580.19104   \n1  Eastern Kingdom: Wetlands Mountain Camp     0.0 -3855.000000 -3479.00000   \n2   Eastern Kingdom: Dun Morogh plane camp     0.0 -6161.000000  -786.00000   \n3               Eastern Kingdom: Undercity     0.0  1831.260000   238.53000   \n4          Eastern Kingdom: Stormwind City     0.0 -8913.230000   554.63300   \n\n      Z_coord  \n0  509.005066  \n1  579.000000  \n2  423.000000  \n3   60.520000  \n4   93.794400  ",
      "text/html": "<div>\n<style scoped>\n    .dataframe tbody tr th:only-of-type {\n        vertical-align: middle;\n    }\n\n    .dataframe tbody tr th {\n        vertical-align: top;\n    }\n\n    .dataframe thead th {\n        text-align: right;\n    }\n</style>\n<table border=\"1\" class=\"dataframe\">\n  <thead>\n    <tr style=\"text-align: right;\">\n      <th></th>\n      <th>Location_Name</th>\n      <th>Map_ID</th>\n      <th>X_coord</th>\n      <th>Y_coord</th>\n      <th>Z_coord</th>\n    </tr>\n  </thead>\n  <tbody>\n    <tr>\n      <th>0</th>\n      <td>Eastern Kingdom: Ironforge Airport</td>\n      <td>0.0</td>\n      <td>-4488.993311</td>\n      <td>-1580.19104</td>\n      <td>509.005066</td>\n    </tr>\n    <tr>\n      <th>1</th>\n      <td>Eastern Kingdom: Wetlands Mountain Camp</td>\n      <td>0.0</td>\n      <td>-3855.000000</td>\n      <td>-3479.00000</td>\n      <td>579.000000</td>\n    </tr>\n    <tr>\n      <th>2</th>\n      <td>Eastern Kingdom: Dun Morogh plane camp</td>\n      <td>0.0</td>\n      <td>-6161.000000</td>\n      <td>-786.00000</td>\n      <td>423.000000</td>\n    </tr>\n    <tr>\n      <th>3</th>\n      <td>Eastern Kingdom: Undercity</td>\n      <td>0.0</td>\n      <td>1831.260000</td>\n      <td>238.53000</td>\n      <td>60.520000</td>\n    </tr>\n    <tr>\n      <th>4</th>\n      <td>Eastern Kingdom: Stormwind City</td>\n      <td>0.0</td>\n      <td>-8913.230000</td>\n      <td>554.63300</td>\n      <td>93.794400</td>\n    </tr>\n  </tbody>\n</table>\n</div>"
     },
     "execution_count": 5,
     "metadata": {},
     "output_type": "execute_result"
    }
   ],
   "source": [
    "location_coords.head()"
   ],
   "metadata": {
    "collapsed": false,
    "pycharm": {
     "name": "#%%\n"
    }
   }
  },
  {
   "cell_type": "code",
   "execution_count": 33,
   "outputs": [
    {
     "data": {
      "text/plain": "     Map_ID Location_Type                  Location_Name Game_Version\n146    1279       Dungeon          The Everbloom<U+00A0>          WoD\n147    1358       Dungeon  Upper Blackrock Spire<U+00A0>          WoD\n148    1228          Raid               Highmaul<U+00A0>          WoD\n149    1205          Raid      Blackrock Foundry<U+00A0>          WoD\n150    1448          Raid       Hellfire Citadel<U+00A0>          WoD",
      "text/html": "<div>\n<style scoped>\n    .dataframe tbody tr th:only-of-type {\n        vertical-align: middle;\n    }\n\n    .dataframe tbody tr th {\n        vertical-align: top;\n    }\n\n    .dataframe thead th {\n        text-align: right;\n    }\n</style>\n<table border=\"1\" class=\"dataframe\">\n  <thead>\n    <tr style=\"text-align: right;\">\n      <th></th>\n      <th>Map_ID</th>\n      <th>Location_Type</th>\n      <th>Location_Name</th>\n      <th>Game_Version</th>\n    </tr>\n  </thead>\n  <tbody>\n    <tr>\n      <th>146</th>\n      <td>1279</td>\n      <td>Dungeon</td>\n      <td>The Everbloom&lt;U+00A0&gt;</td>\n      <td>WoD</td>\n    </tr>\n    <tr>\n      <th>147</th>\n      <td>1358</td>\n      <td>Dungeon</td>\n      <td>Upper Blackrock Spire&lt;U+00A0&gt;</td>\n      <td>WoD</td>\n    </tr>\n    <tr>\n      <th>148</th>\n      <td>1228</td>\n      <td>Raid</td>\n      <td>Highmaul&lt;U+00A0&gt;</td>\n      <td>WoD</td>\n    </tr>\n    <tr>\n      <th>149</th>\n      <td>1205</td>\n      <td>Raid</td>\n      <td>Blackrock Foundry&lt;U+00A0&gt;</td>\n      <td>WoD</td>\n    </tr>\n    <tr>\n      <th>150</th>\n      <td>1448</td>\n      <td>Raid</td>\n      <td>Hellfire Citadel&lt;U+00A0&gt;</td>\n      <td>WoD</td>\n    </tr>\n  </tbody>\n</table>\n</div>"
     },
     "execution_count": 33,
     "metadata": {},
     "output_type": "execute_result"
    }
   ],
   "source": [
    "locations.tail()"
   ],
   "metadata": {
    "collapsed": false,
    "pycharm": {
     "name": "#%%\n"
    }
   }
  }
 ],
 "metadata": {
  "kernelspec": {
   "display_name": "Python 3",
   "language": "python",
   "name": "python3"
  },
  "language_info": {
   "codemirror_mode": {
    "name": "ipython",
    "version": 2
   },
   "file_extension": ".py",
   "mimetype": "text/x-python",
   "name": "python",
   "nbconvert_exporter": "python",
   "pygments_lexer": "ipython2",
   "version": "2.7.6"
  }
 },
 "nbformat": 4,
 "nbformat_minor": 0
}