{
 "cells": [
  {
   "cell_type": "markdown",
   "source": [
    "# Path to data\n",
    "\n",
    "[Kaggle Dataset](https://www.kaggle.com/datasets/mylesoneill/warcraft-avatar-history?select=zones.csv)\n",
    "\n",
    "[Source data parser](https://github.com/myles-oneill/WoWAH-parser/blob/master/wowah-parser.py)\n",
    "\n"
   ],
   "metadata": {
    "collapsed": false,
    "pycharm": {
     "name": "#%% md\n"
    }
   }
  },
  {
   "cell_type": "code",
   "execution_count": 4,
   "metadata": {
    "collapsed": true,
    "pycharm": {
     "name": "#%%\n"
    }
   },
   "outputs": [],
   "source": [
    "import warnings\n",
    "warnings.filterwarnings('ignore')\n",
    "\n",
    "# Set up notebook\n",
    "import pandas as pd\n",
    "import numpy as np\n",
    "import matplotlib.pyplot as plt\n",
    "\n",
    "home_directory = \"C:/Users/rober/DataspellProjects/Machine-Learning-Sandbox\""
   ]
  },
  {
   "cell_type": "code",
   "execution_count": 11,
   "outputs": [],
   "source": [
    "wowah_data = pd.read_csv(\n",
    "    filepath_or_buffer=home_directory + \"/data/02_world_of_warcraft/avatar_history/wowah_data.csv\"\n",
    ")\n",
    "zones = pd.read_csv(\n",
    "    filepath_or_buffer=home_directory + \"/data/02_world_of_warcraft/avatar_history/zones.csv\"\n",
    ")\n",
    "location_coords = pd.read_csv(\n",
    "    filepath_or_buffer=home_directory +\n",
    "                       \"/data/02_world_of_warcraft/avatar_history/location_coords.csv\"\n",
    ")\n",
    "locations = pd.read_csv(\n",
    "    filepath_or_buffer=home_directory + \"/data/02_world_of_warcraft/avatar_history/locations.csv\"\n",
    ")"
   ],
   "metadata": {
    "collapsed": false,
    "pycharm": {
     "name": "#%%\n"
    }
   }
  },
  {
   "cell_type": "code",
   "execution_count": 13,
   "outputs": [
    {
     "data": {
      "text/plain": "    char   level  race  charclass                zone   guild  \\\n0  59425       1   Orc      Rogue           Orgrimmar     165   \n1  65494       9   Orc     Hunter             Durotar      -1   \n2  65325      14   Orc    Warrior          Ghostlands      -1   \n3  65490      18   Orc     Hunter          Ghostlands      -1   \n4   2288      60   Orc     Hunter  Hellfire Peninsula      -1   \n\n           timestamp  \n0  01/01/08 00:02:04  \n1  01/01/08 00:02:04  \n2  01/01/08 00:02:04  \n3  01/01/08 00:02:04  \n4  01/01/08 00:02:09  ",
      "text/html": "<div>\n<style scoped>\n    .dataframe tbody tr th:only-of-type {\n        vertical-align: middle;\n    }\n\n    .dataframe tbody tr th {\n        vertical-align: top;\n    }\n\n    .dataframe thead th {\n        text-align: right;\n    }\n</style>\n<table border=\"1\" class=\"dataframe\">\n  <thead>\n    <tr style=\"text-align: right;\">\n      <th></th>\n      <th>char</th>\n      <th>level</th>\n      <th>race</th>\n      <th>charclass</th>\n      <th>zone</th>\n      <th>guild</th>\n      <th>timestamp</th>\n    </tr>\n  </thead>\n  <tbody>\n    <tr>\n      <th>0</th>\n      <td>59425</td>\n      <td>1</td>\n      <td>Orc</td>\n      <td>Rogue</td>\n      <td>Orgrimmar</td>\n      <td>165</td>\n      <td>01/01/08 00:02:04</td>\n    </tr>\n    <tr>\n      <th>1</th>\n      <td>65494</td>\n      <td>9</td>\n      <td>Orc</td>\n      <td>Hunter</td>\n      <td>Durotar</td>\n      <td>-1</td>\n      <td>01/01/08 00:02:04</td>\n    </tr>\n    <tr>\n      <th>2</th>\n      <td>65325</td>\n      <td>14</td>\n      <td>Orc</td>\n      <td>Warrior</td>\n      <td>Ghostlands</td>\n      <td>-1</td>\n      <td>01/01/08 00:02:04</td>\n    </tr>\n    <tr>\n      <th>3</th>\n      <td>65490</td>\n      <td>18</td>\n      <td>Orc</td>\n      <td>Hunter</td>\n      <td>Ghostlands</td>\n      <td>-1</td>\n      <td>01/01/08 00:02:04</td>\n    </tr>\n    <tr>\n      <th>4</th>\n      <td>2288</td>\n      <td>60</td>\n      <td>Orc</td>\n      <td>Hunter</td>\n      <td>Hellfire Peninsula</td>\n      <td>-1</td>\n      <td>01/01/08 00:02:09</td>\n    </tr>\n  </tbody>\n</table>\n</div>"
     },
     "execution_count": 13,
     "metadata": {},
     "output_type": "execute_result"
    }
   ],
   "source": [
    "wowah_data.head()"
   ],
   "metadata": {
    "collapsed": false,
    "pycharm": {
     "name": "#%%\n"
    }
   }
  },
  {
   "cell_type": "code",
   "execution_count": 14,
   "outputs": [
    {
     "data": {
      "text/plain": "              Zone_Name         Continent              Area  \\\n0               Durotar          Kalimdor  Central Kalimdor   \n1           The Barrens          Kalimdor  Central Kalimdor   \n2     Silverpine Forest  Eastern Kingdoms         Lordaeron   \n3  Stonetalon Mountains          Kalimdor  Central Kalimdor   \n4         Thunder Bluff          Kalimdor  Central Kalimdor   \n\n                   Zone Subzone  Type  Size Controlled  Min_req_level  \\\n0               Durotar     NaN  Zone   NaN      Horde              1   \n1           The Barrens     NaN  Zone   NaN  Contested              1   \n2     Silverpine Forest     NaN  Zone   NaN      Horde              1   \n3  Stonetalon Mountains     NaN  Zone   NaN  Contested              1   \n4         Thunder Bluff     NaN  City   NaN      Horde              1   \n\n   Min_rec_level  Max_rec_level  Min_bot_level  Max_bot_level  \n0            1.0           10.0            1.0           10.0  \n1           10.0           35.0           10.0           35.0  \n2           10.0           20.0           10.0           20.0  \n3           25.0           30.0           25.0           30.0  \n4            1.0          100.0            1.0          100.0  ",
      "text/html": "<div>\n<style scoped>\n    .dataframe tbody tr th:only-of-type {\n        vertical-align: middle;\n    }\n\n    .dataframe tbody tr th {\n        vertical-align: top;\n    }\n\n    .dataframe thead th {\n        text-align: right;\n    }\n</style>\n<table border=\"1\" class=\"dataframe\">\n  <thead>\n    <tr style=\"text-align: right;\">\n      <th></th>\n      <th>Zone_Name</th>\n      <th>Continent</th>\n      <th>Area</th>\n      <th>Zone</th>\n      <th>Subzone</th>\n      <th>Type</th>\n      <th>Size</th>\n      <th>Controlled</th>\n      <th>Min_req_level</th>\n      <th>Min_rec_level</th>\n      <th>Max_rec_level</th>\n      <th>Min_bot_level</th>\n      <th>Max_bot_level</th>\n    </tr>\n  </thead>\n  <tbody>\n    <tr>\n      <th>0</th>\n      <td>Durotar</td>\n      <td>Kalimdor</td>\n      <td>Central Kalimdor</td>\n      <td>Durotar</td>\n      <td>NaN</td>\n      <td>Zone</td>\n      <td>NaN</td>\n      <td>Horde</td>\n      <td>1</td>\n      <td>1.0</td>\n      <td>10.0</td>\n      <td>1.0</td>\n      <td>10.0</td>\n    </tr>\n    <tr>\n      <th>1</th>\n      <td>The Barrens</td>\n      <td>Kalimdor</td>\n      <td>Central Kalimdor</td>\n      <td>The Barrens</td>\n      <td>NaN</td>\n      <td>Zone</td>\n      <td>NaN</td>\n      <td>Contested</td>\n      <td>1</td>\n      <td>10.0</td>\n      <td>35.0</td>\n      <td>10.0</td>\n      <td>35.0</td>\n    </tr>\n    <tr>\n      <th>2</th>\n      <td>Silverpine Forest</td>\n      <td>Eastern Kingdoms</td>\n      <td>Lordaeron</td>\n      <td>Silverpine Forest</td>\n      <td>NaN</td>\n      <td>Zone</td>\n      <td>NaN</td>\n      <td>Horde</td>\n      <td>1</td>\n      <td>10.0</td>\n      <td>20.0</td>\n      <td>10.0</td>\n      <td>20.0</td>\n    </tr>\n    <tr>\n      <th>3</th>\n      <td>Stonetalon Mountains</td>\n      <td>Kalimdor</td>\n      <td>Central Kalimdor</td>\n      <td>Stonetalon Mountains</td>\n      <td>NaN</td>\n      <td>Zone</td>\n      <td>NaN</td>\n      <td>Contested</td>\n      <td>1</td>\n      <td>25.0</td>\n      <td>30.0</td>\n      <td>25.0</td>\n      <td>30.0</td>\n    </tr>\n    <tr>\n      <th>4</th>\n      <td>Thunder Bluff</td>\n      <td>Kalimdor</td>\n      <td>Central Kalimdor</td>\n      <td>Thunder Bluff</td>\n      <td>NaN</td>\n      <td>City</td>\n      <td>NaN</td>\n      <td>Horde</td>\n      <td>1</td>\n      <td>1.0</td>\n      <td>100.0</td>\n      <td>1.0</td>\n      <td>100.0</td>\n    </tr>\n  </tbody>\n</table>\n</div>"
     },
     "execution_count": 14,
     "metadata": {},
     "output_type": "execute_result"
    }
   ],
   "source": [
    "zones.head()"
   ],
   "metadata": {
    "collapsed": false,
    "pycharm": {
     "name": "#%%\n"
    }
   }
  },
  {
   "cell_type": "code",
   "execution_count": 15,
   "outputs": [
    {
     "data": {
      "text/plain": "                             Location_Name  Map_ID      X_coord     Y_coord  \\\n0       Eastern Kingdom: Ironforge Airport     0.0 -4488.993311 -1580.19104   \n1  Eastern Kingdom: Wetlands Mountain Camp     0.0 -3855.000000 -3479.00000   \n2   Eastern Kingdom: Dun Morogh plane camp     0.0 -6161.000000  -786.00000   \n3               Eastern Kingdom: Undercity     0.0  1831.260000   238.53000   \n4          Eastern Kingdom: Stormwind City     0.0 -8913.230000   554.63300   \n\n      Z_coord  \n0  509.005066  \n1  579.000000  \n2  423.000000  \n3   60.520000  \n4   93.794400  ",
      "text/html": "<div>\n<style scoped>\n    .dataframe tbody tr th:only-of-type {\n        vertical-align: middle;\n    }\n\n    .dataframe tbody tr th {\n        vertical-align: top;\n    }\n\n    .dataframe thead th {\n        text-align: right;\n    }\n</style>\n<table border=\"1\" class=\"dataframe\">\n  <thead>\n    <tr style=\"text-align: right;\">\n      <th></th>\n      <th>Location_Name</th>\n      <th>Map_ID</th>\n      <th>X_coord</th>\n      <th>Y_coord</th>\n      <th>Z_coord</th>\n    </tr>\n  </thead>\n  <tbody>\n    <tr>\n      <th>0</th>\n      <td>Eastern Kingdom: Ironforge Airport</td>\n      <td>0.0</td>\n      <td>-4488.993311</td>\n      <td>-1580.19104</td>\n      <td>509.005066</td>\n    </tr>\n    <tr>\n      <th>1</th>\n      <td>Eastern Kingdom: Wetlands Mountain Camp</td>\n      <td>0.0</td>\n      <td>-3855.000000</td>\n      <td>-3479.00000</td>\n      <td>579.000000</td>\n    </tr>\n    <tr>\n      <th>2</th>\n      <td>Eastern Kingdom: Dun Morogh plane camp</td>\n      <td>0.0</td>\n      <td>-6161.000000</td>\n      <td>-786.00000</td>\n      <td>423.000000</td>\n    </tr>\n    <tr>\n      <th>3</th>\n      <td>Eastern Kingdom: Undercity</td>\n      <td>0.0</td>\n      <td>1831.260000</td>\n      <td>238.53000</td>\n      <td>60.520000</td>\n    </tr>\n    <tr>\n      <th>4</th>\n      <td>Eastern Kingdom: Stormwind City</td>\n      <td>0.0</td>\n      <td>-8913.230000</td>\n      <td>554.63300</td>\n      <td>93.794400</td>\n    </tr>\n  </tbody>\n</table>\n</div>"
     },
     "execution_count": 15,
     "metadata": {},
     "output_type": "execute_result"
    }
   ],
   "source": [
    "location_coords.head()"
   ],
   "metadata": {
    "collapsed": false,
    "pycharm": {
     "name": "#%%\n"
    }
   }
  },
  {
   "cell_type": "code",
   "execution_count": 16,
   "outputs": [
    {
     "data": {
      "text/plain": "   Map_ID Location_Type     Location_Name Game_Version\n0       0     Continent  Eastern Kingdoms          WoW\n1       1     Continent          Kalimdor          WoW\n2     530     Continent          Outlands          TBC\n3     571     Continent         Northrend          WLK\n4     646     Continent          Deepholm          CAT",
      "text/html": "<div>\n<style scoped>\n    .dataframe tbody tr th:only-of-type {\n        vertical-align: middle;\n    }\n\n    .dataframe tbody tr th {\n        vertical-align: top;\n    }\n\n    .dataframe thead th {\n        text-align: right;\n    }\n</style>\n<table border=\"1\" class=\"dataframe\">\n  <thead>\n    <tr style=\"text-align: right;\">\n      <th></th>\n      <th>Map_ID</th>\n      <th>Location_Type</th>\n      <th>Location_Name</th>\n      <th>Game_Version</th>\n    </tr>\n  </thead>\n  <tbody>\n    <tr>\n      <th>0</th>\n      <td>0</td>\n      <td>Continent</td>\n      <td>Eastern Kingdoms</td>\n      <td>WoW</td>\n    </tr>\n    <tr>\n      <th>1</th>\n      <td>1</td>\n      <td>Continent</td>\n      <td>Kalimdor</td>\n      <td>WoW</td>\n    </tr>\n    <tr>\n      <th>2</th>\n      <td>530</td>\n      <td>Continent</td>\n      <td>Outlands</td>\n      <td>TBC</td>\n    </tr>\n    <tr>\n      <th>3</th>\n      <td>571</td>\n      <td>Continent</td>\n      <td>Northrend</td>\n      <td>WLK</td>\n    </tr>\n    <tr>\n      <th>4</th>\n      <td>646</td>\n      <td>Continent</td>\n      <td>Deepholm</td>\n      <td>CAT</td>\n    </tr>\n  </tbody>\n</table>\n</div>"
     },
     "execution_count": 16,
     "metadata": {},
     "output_type": "execute_result"
    }
   ],
   "source": [
    "locations.head()"
   ],
   "metadata": {
    "collapsed": false,
    "pycharm": {
     "name": "#%%\n"
    }
   }
  }
 ],
 "metadata": {
  "kernelspec": {
   "display_name": "Python 3",
   "language": "python",
   "name": "python3"
  },
  "language_info": {
   "codemirror_mode": {
    "name": "ipython",
    "version": 2
   },
   "file_extension": ".py",
   "mimetype": "text/x-python",
   "name": "python",
   "nbconvert_exporter": "python",
   "pygments_lexer": "ipython2",
   "version": "2.7.6"
  }
 },
 "nbformat": 4,
 "nbformat_minor": 0
}